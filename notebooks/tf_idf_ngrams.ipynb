{
 "cells": [
  {
   "cell_type": "code",
   "execution_count": 1,
   "metadata": {},
   "outputs": [
    {
     "name": "stdout",
     "output_type": "stream",
     "text": [
      "documents: 2225, words in first document: 550\n"
     ]
    }
   ],
   "source": [
    "from src.search_index import SearchIndex, Document\n",
    "import pandas as pd\n",
    "\n",
    "df = pd.read_csv('./data/docs.csv')\n",
    "data = df['Text'].values.tolist()\n",
    "print(f\"documents: {len(data)}, words in first document: {len(data[0].split(' '))}\")\n"
   ]
  },
  {
   "cell_type": "code",
   "execution_count": 2,
   "metadata": {},
   "outputs": [
    {
     "name": "stdout",
     "output_type": "stream",
     "text": [
      "Building index...\n"
     ]
    },
    {
     "name": "stderr",
     "output_type": "stream",
     "text": [
      "Indexing items: 100%|██████████| 2225/2225 [00:03<00:00, 633.06it/s]"
     ]
    },
    {
     "name": "stdout",
     "output_type": "stream",
     "text": [
      "Index of 2225 items built in 3.528310775756836 seconds\n"
     ]
    },
    {
     "name": "stderr",
     "output_type": "stream",
     "text": [
      "\n"
     ]
    }
   ],
   "source": [
    "index = SearchIndex()\n",
    "for item in data:\n",
    "    index.add_document(Document(item, metadata = item))\n",
    "index.build_index()"
   ]
  },
  {
   "cell_type": "code",
   "execution_count": 3,
   "metadata": {},
   "outputs": [
    {
     "data": {
      "text/plain": [
       "[{\n",
       "     \"df_idf\": 0.0039,\n",
       "     \"id\": \"84cabcf2-056a-46d4-9d6d-942b8f1478c0\",\n",
       "     \"doc\": \"MSPs hear renewed climate warning\\n \\n Climate change could be completely out of control within several decades, the Scottish Environment Protection Agency is warning a committee of MSPs.\\n \\n Experts are giving evidence on the subject to the Scottish Parliament's environment committee. Officials believe nuclear energy and wind farms may be better options than trying to tackle global warming. Solutions suggested by conservationists include reducing internal UK air travel and boosting electric trains. The evidence is part of the committee's inquiry into the impact of climate change in Scotland. Sepa is attempting to curb global warming gases, as pollution from transport emissions increases.\\n \\n Ecologists are warning MSPs that Scotland may have to accept \\\"significant intrusion\\\" from wind farms. It is likely also that nuclear power will be needed for possibly several decades. Sepa predict that the two methods will remain as energy sources until climate change is under control. Experts studying the seas off Scotland's west coast have already forecast more devastating weather of the type which caused havoc across the country last month.\\n \\n They predicted that damaging storms will become more frequent. Researchers from the University of the Highlands and Islands and Southampton have been looking at wave heights in the Atlantic over the last nine years. The project was conducted jointly by the Environmental Research Institute in Thurso, which is part of the University of the Highlands and Islands (UHI) Millennium Institute network, and the Southampton Oceanography Centre. Scientists carried out a series of studies, including the use of satellites to assess wave heights in the seas around the west coast and the Hebrides.\\n\"\n",
       " },\n",
       " {\n",
       "     \"df_idf\": 0.0019,\n",
       "     \"id\": \"c4890301-edff-440d-b7dd-46c389641500\",\n",
       "     \"doc\": \"Blair congratulates Bush on win\\n \\n Tony Blair has said he looks forward to continuing his strong relationship with George Bush and working with him during his second term as president.\\n \\n Mr Bush's re-election came at a crucial time for a world that was \\\"fractured, divided and uncertain\\\", Mr Blair said. It had to be brought together, he added, saying action was needed on poverty, the Middle East and the conditions on which terrorists prey. Mr Blair said states had to work with the US to fight global terrorism.\\n \\n But there was a need to recognise it would not be defeated by \\\"military might alone but also by demonstrating the strength of our common values\\\" he added. Solving the conflict in the Middle East was the world's single most \\\"pressing political challenge\\\" of the present day, Mr Blair warned. The prime minister also urged Europe and the US to \\\"build anew their alliance\\\".\\n \\n \\\"All of us in positions of leadership, not just President Bush, have a responsibility to rise to this challenge. It is urgent that we do so.\\\" Mr Blair also paid tribute to Democrat John Kerry's campaign, saying he had helped make the presidential election \\\"a true celebration of American democracy\\\". The election of the US president was significant for the world but particularly so for Britain because of its special relationship, he added. Earlier Tory leader Michael Howard sent Mr Bush his \\\"warmest congratulations\\\", saying: \\\"We look to the president to be a unifying force for those all over the world who share our determination to defend freedom.\\\" Liberal Democrat leader Charles Kennedy welcomed the fact there had been a quick conclusion to the election, unlike in 2000.\\n \\n Mr Bush's first task was to \\\"rebuild a sense of domestic purpose\\\" within the US, he said. Mr Kennedy said: \\\"Internationally, it is to be hoped that a second term will see a more sensitive approach to relations with long-standing allies, not least for the global efforts to combat terrorism.\\\" Lib Dem foreign affairs spokesman Menzies Campbell said a win by Mr Kerry would have given Mr Blair the chance of a fresh start, adding it was almost as if there was an \\\"umbilical cord\\\" between Mr Bush and the UK premier.\\n \\n \\\"Europeans must hope that his administration will be much more multilateral in character, and that he will act swiftly to rebuild the Atlantic partnership which is so vital to security. \\\"Iraq will remain an issue of potential division for some time to come.\\\" Even before the result became clear, Mr Blair was being urged to push for action on climate change at his first meeting with whichever candidate won.\\n \\n Liberal Democrat environment spokesman Norman Baker underlined the issue of global warming during a Commons debate on Anglo-American relations on Wednesday. Environment Secretary Margaret Beckett has said the US will act on global warming despite George Bush's refusal to sign up to the Kyoto protocol on carbon emissions. Public opinion would force change, she told BBC news. But Myron Ebell, an adviser on climate change to President Bush, has said there would be no change in the US stance and rejected the threat of climate change. He claimed the US was the only country with independent scientists.\\n\"\n",
       " },\n",
       " {\n",
       "     \"df_idf\": 0.0017,\n",
       "     \"id\": \"25106b32-7076-4d68-8b31-a008d1ea5359\",\n",
       "     \"doc\": \"Blair 'pressing US on climate'\\n \\n Tony Blair is pressing the US to cut greenhouse gases despite its unwillingness to sign the Kyoto Protocol, Downing Street has indicated.\\n \\n Officials have confirmed climate change was discussed when influential senator John McCain recently visited Mr Blair. Climate change was an issue the prime minister \\\"wanted to progress\\\" during the UK's presidency of the G8 and EU in 2005, said a spokesman. But he played down reports Mr Blair was considering a new US-friendly treaty.\\n \\n According to the Times, the UK leader wants to end US isolation with a \\\"Kyoto-lite\\\" agreement on the scale and nature of the threat from climate change. He is said to have discussed the idea with Mr McCain during his time at Number 10. The prime minister is said to believe the United States' refusal to sign the Kyoto Protocol on emissions is undermining other countries' resolve to cut carbon dioxide production. So far the US has refused to sign up to the Kyoto treaty - which aims to cut emissions - branding it politically motivated and not based on science. President Bush's advisers have repeatedly denied global warming is taking place.\\n \\n Europe, which disputes the claim, has also signalled it wants to press ahead with talks about longer term climate change action in a way which involves both the United States and developing countries. Mr Blair's reported treaty would also establish an international programme to develop technology needed for renewable energy and the reduction of carbon emissions, says the Times. But there is still apparently \\\"little prospect\\\" of America agreeing to cut emissions, which could further provoke environmental campaigners already angry at the lack of progress. Mr Blair was left blushing on Wednesday when it emerged his manifesto target of a 20% cut to the 1990 greenhouse gas level by 2010 was set to be missed.\\n\"\n",
       " },\n",
       " {\n",
       "     \"df_idf\": 0.0011,\n",
       "     \"id\": \"bf68b987-b942-4a68-a9df-ccac11a726ef\",\n",
       "     \"doc\": \"Aids and climate top Davos agenda\\n \\n Climate change and the fight against Aids are leading the list of concerns for the first day of the World Economic Forum in the Swiss resort of Davos.\\n \\n Some 2,000 business and political leaders from around the globe will listen to UK Prime Minister Tony Blair's opening speech on Wednesday. Mr Blair will focus on Africa's development plans and global warming. Earlier in the day came an update on efforts to have 3 million people on anti-Aids drugs by the end of 2005. The World Health Organisation (WHO) said 700,000 people in poor countries were on life-extending drugs - up from 440,000 six months earlier but amounting to only 12% of the 5.8 million who needed them. A $2bn \\\"funding gap\\\" still stood in the way of hitting the 2005 target, the WHO said.\\n \\n The themes to be stressed by Mr Blair - whose attendance was announced at the last minute - are those he wants to dominate the UK's chairmanship of the G8 group of industrialised states. Other issues to be discussed at the five-day conference range from China's\\n \\n economic power to Iraq's future after this Sunday's elections. Aside from Mr Blair, more than 20 other world leaders are expected to attend including French President Jacques Chirac - due to speak by video link after bad weather delayed his helicopter - and South African President Thabo Mbeki, whose arrival has been delayed by Ivory Coast peace talks. The Ukraine's new president, Viktor Yushchenko, will also be there - as will newly elected Palestinian leader Mahmoud Abbas. Showbiz figures will also put in an appearance, from U2 frontman Bono - a well-known campaigner on trade and development issues - to Angelina Jolie, a goodwill campaigner for the UN on refugees.\\n \\n Unlike previous years, protests against the WEF are expected to be muted. Anti-globalisation campaigners have called off a demonstration planned for the weekend. At the same time, about 100,000 people are expected to converge on the Brazilian resort of Porto Alegre for the World Social Forum - the so-called \\\"anti-Davos\\\" for campaigners against globalisation, for fair trade, and many other causes.\\n \\n In contrast, the Davos forum is dominated by business issues - from outsourcing to corporate leadership - with bosses of more than a fifth of the world's 500 largest companies scheduled to attend. A survey published on the eve of the conference by PricewaterhouseCoopers said four in ten business leaders were \\\"very confident\\\" that their companies would see sales rise in 2005. Asian and American executives, however, were much more confident than their European counterparts. But the political discussions, focusing on Iran, Iraq and China, are likely to dominate media attention.\\n\"\n",
       " },\n",
       " {\n",
       "     \"df_idf\": 0.0007,\n",
       "     \"id\": \"adb66635-cacb-48a7-811c-e8fb5439c980\",\n",
       "     \"doc\": \"World leaders gather to face uncertainty\\n \\n More than 2,000 business and political leaders from around the globe are arriving in the Swiss mountain resort Davos for the annual World Economic Forum (WEF). For five days, they will discuss issues ranging from China's economic power to Iraq's future after this Sunday's elections. UK Prime Minister Tony Blair and South African President Thabo Mbeki are among the more than 20 government leaders and heads of state leaders attending the meeting. Unlike previous years, protests against the WEF are expected to be muted. Anti-globalisation campaigners have called off a demonstration planned for the weekend.\\n \\n The Brazilian city of Porto Alegre will host the rival World Social Forum, timed to run in parallel with the WEF's ritzier event in Davos.\\n \\n The organisers of the Brazilian gathering, which brings together thousands of campaigners against globalisation, for fair trade, and many other causes, have promised to set an alternative agenda to that of the Swiss summit. However, many of the issues discussed in Porto Alegre are Davos talking points as well. \\\"Global warming\\\" features particularly high. WEF participants are being asked to offset the carbon emissions they cause by travelling to the event. Davos itself is in deep frost. The snow is piled high across the mountain village, and at night the wind chill takes temperatures down to minus 20C and less.\\n \\n Ultimately, the forum will be dominated by business issues - from outsourcing to corporate leadership - with bosses of more than a fifth of the world's 500 largest companies scheduled to attend.\\n \\n But much of the media focus will be on the political leaders coming to Davos, not least because the agenda of this year's forum seems to lack an overarching theme. \\\"Taking responsibility for tough choices\\\" is this year's official talking point, hinting at a welter of knotty problems. One thing seems sure, though: transatlantic disagreements over how to deal with Iran, Iraq and China are set to dominate discussions. Pointedly, only one senior official from President Bush's new administration is scheduled to attend. The US government may still make a conciliatory gesture, just as happened a year ago when Vice President Dick Cheney made a surprise appearance in Davos.\\n \\n Ukraine's new president, Viktor Yushchenko, is to speak, just days after his inauguration, an event that crowned the civil protests against the rigged first election that had tried to keep him from power.\\n \\n The European Union's top leaders, among them German Chancellor Gerhard Schroeder and European Commission President Manuel Barosso, will be here too. Mr Blair will formally open the proceedings, although his speech will be pre-empted by French President Jacques Chirac, who announced his attendance at the last minute and secured a slot for a \\\"special message\\\" two hours before Mr Blair speaks. The organisers also hope that the new Palestinian leader, Mahmoud Abbas, will use the opportunity for talks with at least one of the three Israeli deputy prime ministers coming to the event, a list that includes Shimon Peres. Davos fans still hark back to 1994, when talks between Yassir Arafat and Mr Peres came close to a peace deal. Mr Blair's appearance will be keenly watched too, as political observers in the UK claim it is a calculated snub against political rival Chancellor Gordon Brown, who was supposed to lead the UK government delegation.\\n \\n Microsoft founder Bill Gates, the world's richest man and a regular at Davos, will focus on campaigning for good causes, though business interests will not be wholly absent either. Having already donated billions of dollars to the fight against Aids and Malaria, Mr Gates will call on world leaders to support a global vaccination campaign to protect children in developing countries from easily preventable diseases. On Tuesday, Mr Gates pledged $750m (\\u00c2\\u00a3400m) of his own money to support the cause. Mr Gates' company, software giant Microsoft, also hopes to use Davos to shore up its defences against open source software like Linux, which threaten Microsoft's near monopoly on computer desktops. Mr Gates is said to be trying to arrange a meeting with Brazil's President Lula da Silva. The Brazilian government has plans to switch all government computers from Microsoft to Linux. At Davos, global problem solving and networking are never far apart.\\n\"\n",
       " }]"
      ]
     },
     "execution_count": 3,
     "metadata": {},
     "output_type": "execute_result"
    }
   ],
   "source": [
    "index.search(query='Global warming', n=5)"
   ]
  }
 ],
 "metadata": {
  "kernelspec": {
   "display_name": "Python 3",
   "language": "python",
   "name": "python3"
  },
  "language_info": {
   "codemirror_mode": {
    "name": "ipython",
    "version": 3
   },
   "file_extension": ".py",
   "mimetype": "text/x-python",
   "name": "python",
   "nbconvert_exporter": "python",
   "pygments_lexer": "ipython3",
   "version": "3.11.6"
  }
 },
 "nbformat": 4,
 "nbformat_minor": 2
}
